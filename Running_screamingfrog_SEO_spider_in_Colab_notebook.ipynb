{
  "nbformat": 4,
  "nbformat_minor": 0,
  "metadata": {
    "colab": {
      "name": "Running screamingfrog SEO spider in Colab notebook ",
      "provenance": [],
      "collapsed_sections": [],
      "machine_shape": "hm",
      "authorship_tag": "ABX9TyMJ/6fCKjE2hicHKogbCVQ7",
      "include_colab_link": true
    },
    "kernelspec": {
      "name": "python3",
      "display_name": "Python 3"
    },
    "language_info": {
      "name": "python"
    }
  },
  "cells": [
    {
      "cell_type": "markdown",
      "metadata": {
        "id": "view-in-github",
        "colab_type": "text"
      },
      "source": [
        "<a href=\"https://colab.research.google.com/github/danzerzine/seospider-colab/blob/main/Running_screamingfrog_SEO_spider_in_Colab_notebook.ipynb\" target=\"_parent\"><img src=\"https://colab.research.google.com/assets/colab-badge.svg\" alt=\"Open In Colab\"/></a>"
      ]
    },
    {
      "cell_type": "markdown",
      "metadata": {
        "id": "Fwxcv9YiDOBH"
      },
      "source": [
        "# Запуск SEO бота Screaming Frog SEO spider в облаке через Google Colab"
      ]
    },
    {
      "cell_type": "markdown",
      "metadata": {
        "id": "ypH59iexMO23"
      },
      "source": [
        "-------------"
      ]
    },
    {
      "cell_type": "markdown",
      "metadata": {
        "id": "nFJcHbEiImIp"
      },
      "source": [
        "> *Protip: под задачу для крупного сайта лучше всего подходят High RAM (25GB) инстансы без GPU/TPU, доступные в PRO подписке*\n"
      ]
    },
    {
      "cell_type": "markdown",
      "metadata": {
        "id": "3d7Ird6ADa2c"
      },
      "source": [
        "###Косметическое улучшение: добавляем перенос строки для длинных однострочных команд \n",
        "\n"
      ]
    },
    {
      "cell_type": "code",
      "metadata": {
        "id": "zpZoQpzVn-5o"
      },
      "source": [
        "from IPython.display import HTML, display\n",
        "\n",
        "def set_css():\n",
        "  display(HTML('''\n",
        "  <style>\n",
        "    pre {\n",
        "        white-space: pre-wrap;\n",
        "    }\n",
        "  </style>\n",
        "  '''))\n",
        "get_ipython().events.register('pre_run_cell', set_css)"
      ],
      "execution_count": null,
      "outputs": []
    },
    {
      "cell_type": "markdown",
      "metadata": {
        "id": "Nvf_PSGRDzey"
      },
      "source": [
        "###Подключаем Google Drive в котором хранятся конфиги бота и куда будут сохраняться результаты обхода \n"
      ]
    },
    {
      "cell_type": "code",
      "metadata": {
        "colab": {
          "base_uri": "https://localhost:8080/",
          "height": 34
        },
        "id": "JqCzOyRMoZ5y",
        "outputId": "8e4c677e-6736-477d-9eb4-beedaa36c3ab"
      },
      "source": [
        "from google.colab import drive\n",
        "drive.mount('/content/drive')"
      ],
      "execution_count": null,
      "outputs": [
        {
          "output_type": "display_data",
          "data": {
            "text/html": [
              "\n",
              "  <style>\n",
              "    pre {\n",
              "        white-space: pre-wrap;\n",
              "    }\n",
              "  </style>\n",
              "  "
            ],
            "text/plain": [
              "<IPython.core.display.HTML object>"
            ]
          },
          "metadata": {}
        },
        {
          "output_type": "stream",
          "name": "stdout",
          "text": [
            "Mounted at /content/drive\n"
          ]
        }
      ]
    },
    {
      "cell_type": "markdown",
      "metadata": {
        "id": "lpY9ONOOENH5"
      },
      "source": [
        "###Узнаем внешний IP инстанса \n",
        "чтобы затем ручками добавить его в исключения файерволла cloudflare -- иначе очень быстро упремся в rate limit и нам начнут показывать страницу с проверкой на человекообразность"
      ]
    },
    {
      "cell_type": "code",
      "metadata": {
        "colab": {
          "base_uri": "https://localhost:8080/",
          "height": 51
        },
        "id": "zJbOCnNaot3q",
        "outputId": "e878b91d-fac7-4efd-f6ef-0d64ae442549"
      },
      "source": [
        "!wget -qO- http://ipecho.net/plain | xargs echo && wget -qO - icanhazip.com"
      ],
      "execution_count": null,
      "outputs": [
        {
          "output_type": "display_data",
          "data": {
            "text/html": [
              "\n",
              "  <style>\n",
              "    pre {\n",
              "        white-space: pre-wrap;\n",
              "    }\n",
              "  </style>\n",
              "  "
            ],
            "text/plain": [
              "<IPython.core.display.HTML object>"
            ]
          },
          "metadata": {}
        },
        {
          "output_type": "stream",
          "name": "stdout",
          "text": [
            "35.237.19.193\n",
            "35.237.19.193\n"
          ]
        }
      ]
    },
    {
      "cell_type": "markdown",
      "metadata": {
        "id": "V-N4uMXYEov9"
      },
      "source": [
        "###Устанавливаем последнюю версию seo spider, делаем мелкие дела по хозяйству\n",
        "* Обновляем установленные linux пакеты \n",
        "* Копируем настройки с десктопной версии SEO spider в локальную папку инстанса (это нужно чтобы передать токены авторизации к google search console, GA и так далее) "
      ]
    },
    {
      "cell_type": "code",
      "metadata": {
        "id": "mG_uuKnJ2HMK"
      },
      "source": [
        "#@title Settings directory on GDrive { vertical-output: true, display-mode: \"both\" }\n",
        "settings_path = \"\" #@param {type:\"string\"}\n",
        "!wget https://download.screamingfrog.co.uk/products/seo-spider/screamingfrogseospider_16.3_all.deb\n",
        "!apt-get install screamingfrogseospider_16.3_all.deb\n",
        "!sudo apt-get update && sudo apt-get upgrade -y\n",
        "!mkdir -p ~/.ScreamingFrogSEOSpider\n",
        "!cp -r $settings_path/* ~/.ScreamingFrogSEOSpider"
      ],
      "execution_count": null,
      "outputs": []
    },
    {
      "cell_type": "markdown",
      "metadata": {
        "id": "5ys4K50rFiu2"
      },
      "source": [
        "### Запускаем bash скрипт для донастройки инстанса и бота \n",
        "Он добавит виртуальный дисплей для вывода из JAVA, переключит бота в режим сохранения результатов на диске вместо RAM и т.д."
      ]
    },
    {
      "cell_type": "code",
      "metadata": {
        "id": "tuv0NDBJSaAO"
      },
      "source": [
        "!wget https://raw.githubusercontent.com/fili/screaming-frog-on-google-compute-engine/master/gce-sf.sh -O install.sh && chmod +x install.sh && source ./install.sh"
      ],
      "execution_count": null,
      "outputs": []
    },
    {
      "cell_type": "markdown",
      "metadata": {
        "id": "gVTQ0HG0F_6R"
      },
      "source": [
        "###Делаем симлинк скрытой папки с временными файлами и настройками бота\n",
        "на случай если придется что-то редактировать или вынимать оттуда наживую, иначе ее не будет видно в браузере файлов слева"
      ]
    },
    {
      "cell_type": "code",
      "metadata": {
        "id": "DIbDXxG_RNsm"
      },
      "source": [
        "!ln -s ~/.ScreamingFrogSEOSpider ~/ScreamingFrogSEOSpider"
      ],
      "execution_count": null,
      "outputs": []
    },
    {
      "cell_type": "markdown",
      "metadata": {
        "id": "wg1qUInyGV5R"
      },
      "source": [
        "###Даем команду боту в headless режиме \n",
        "прописываем все нужные флаги для экспорта, настроек, отчетов, выгрузок и так далее"
      ]
    },
    {
      "cell_type": "code",
      "metadata": {
        "id": "ntfNd0QSyrpX"
      },
      "source": [
        "#@title Crawl settings { vertical-output: true }\n",
        "url_start = \"\" #@param {type:\"string\"}\n",
        "use_gcs = \"\" #@param [\"\", \"--use-google-search-console \\\"account \\\"\"] {allow-input: true}\n",
        "config_path = \"\" #@param {type:\"string\"}\n",
        "output_folder = \"\" #@param {type:\"string\"}\n",
        "\n",
        "!screamingfrogseospider --crawl \"$url_start\" $use_gcs --headless  --config \"$config_path\" --output-folder \"$output_folder\" --timestamped-output --save-crawl --export-tabs \"Internal:All,Response Codes:All,Response Codes:Blocked by Robots.txt,Response Codes:Blocked Resource,Response Codes:No Response,Response Codes:Redirection (3xx),Response Codes:Redirection (JavaScript),Response Codes:Redirection (Meta Refresh),Response Codes:Client Error (4xx),Response Codes:Server Error (5xx),Page Titles:All,Page Titles:Missing,Page Titles:Duplicate,Page Titles:Over X Characters,Page Titles:Below X Characters,Page Titles:Over X Pixels,Page Titles:Below X Pixels,Page Titles:Same as H1,Page Titles:Multiple,Meta Description:All,Meta Description:Missing,Meta Description:Duplicate,Meta Description:Over X Characters,Meta Description:Below X Characters,Meta Description:Over X Pixels,Meta Description:Below X Pixels,Meta Description:Multiple,Meta Keywords:All,Meta Keywords:Missing,Meta Keywords:Duplicate,Meta Keywords:Multiple,Canonicals:All,Canonicals:Contains Canonical,Canonicals:Self Referencing,Canonicals:Canonicalised,Canonicals:Missing,Canonicals:Multiple,Canonicals:Non-Indexable Canonical,Directives:All,Directives:Index,Directives:Noindex,Directives:Follow,Directives:Nofollow,Directives:None,Directives:NoArchive,Directives:NoSnippet,Directives:Max-Snippet,Directives:Max-Image-Preview,Directives:Max-Video-Preview,Directives:NoODP,Directives:NoYDIR,Directives:NoImageIndex,Directives:NoTranslate,Directives:Unavailable_After,Directives:Refresh,AMP:All,AMP:Non-200 Response,AMP:Missing Non-AMP Return Link,AMP:Missing Canonical to Non-AMP,AMP:Non-Indexable Canonical,AMP:Indexable,AMP:Non-Indexable,AMP:Missing <html amp> Tag,AMP:Missing/Invalid <!doctype html> Tag,AMP:Missing <head> Tag,AMP:Missing <body> Tag,AMP:Missing Canonical,AMP:Missing/Invalid <meta charset> Tag,AMP:Missing/Invalid <meta viewport> Tag,AMP:Missing/Invalid AMP Script,AMP:Missing/Invalid AMP Boilerplate,AMP:Contains Disallowed HTML,AMP:Other Validation Errors,Structured Data:All,Structured Data:Contains Structured Data,Structured Data:Missing,Structured Data:Validation Errors,Structured Data:Validation Warnings,Structured Data:Parse Errors,Structured Data:Microdata URLs,Structured Data:JSON-LD URLs,Structured Data:RDFa URLs,Sitemaps:All,Sitemaps:URLs in Sitemap,Sitemaps:URLs not in Sitemap,Sitemaps:Orphan URLs,Sitemaps:Non-Indexable URLs in Sitemap,Sitemaps:URLs in Multiple Sitemaps,Sitemaps:XML Sitemap with over 50k URLs,Sitemaps:XML Sitemap over 50MB\" --bulk-export \"Canonicals:Contains Canonical Inlinks,Canonicals:Self Referencing Inlinks,Canonicals:Canonicalised Inlinks,Canonicals:Missing Inlinks,Canonicals:Multiple Inlinks,Canonicals:Non-Indexable Canonical Inlinks,AMP:All Inlinks,AMP:Non-200 Response Inlinks,AMP:Missing Non-AMP Return Link Inlinks,AMP:Missing Canonical to Non-AMP Inlinks,AMP:Non-Indexable Canonical Inlinks,AMP:Indexable Inlinks,AMP:Non-Indexable Inlinks,Structured Data:Contains Structured Data,Structured Data:Validation Errors,Structured Data:Validation Warnings,Structured Data:JSON-LD URLs,Structured Data:Microdata URLs,Structured Data:RDFa URLs,Sitemaps:URLs in Sitemap Inlinks,Sitemaps:Orphan URLs Inlinks,Sitemaps:Non-Indexable URLs in Sitemap Inlinks,Sitemaps:URLs in Multiple Sitemaps Inlinks\" --save-report \"Crawl Overview,Redirects:All Redirects,Redirects:Redirect Chains,Redirects:Redirect & Canonical Chains,Canonicals:Canonical Chains,Canonicals:Non-Indexable Canonicals,Pagination:Non-200 Pagination URLs,Pagination:Unlinked Pagination URLs,Hreflang:All hreflang URLs,Hreflang:Non-200 hreflang URLs,Hreflang:Unlinked hreflang URLs,Hreflang:Missing Return Links,Hreflang:Inconsistent Language & Region Return Links,Hreflang:Non Canonical Return Links,Hreflang:Noindex Return Links,Insecure Content,SERP Summary,Orphan Pages,Structured Data:Validation Errors & Warnings Summary,Structured Data:Validation Errors & Warnings,Structured Data:Google Rich Results Features Summary,Structured Data:Google Rich Results Features,HTTP Headers:HTTP Header Summary,Cookies:Cookie Summary\" --export-format xlsx --export-custom-summary \"Site Crawled,Date,Time,Total URLs Encountered,Total URLs Crawled,Total Internal blocked by robots.txt,Total External blocked by robots.txt,URLs Displayed,Total Internal URLs,Total External URLs,Total Internal Indexable URLs,Total Internal Non-Indexable URLs,JavaScript:All,JavaScript:Uses Old AJAX Crawling Scheme URLs,JavaScript:Uses Old AJAX Crawling Scheme Meta Fragment Tag,JavaScript:Page Title Only in Rendered HTML,JavaScript:Page Title Updated by JavaScript,JavaScript:H1 Only in Rendered HTML,JavaScript:H1 Updated by JavaScript,JavaScript:Meta Description Only in Rendered HTML,JavaScript:Meta Description Updated by JavaScript,JavaScript:Canonical Only in Rendered HTML,JavaScript:Canonical Mismatch,JavaScript:Noindex Only in Original HTML,JavaScript:Nofollow Only in Original HTML,JavaScript:Contains JavaScript Links,JavaScript:Contains JavaScript Content,JavaScript:Pages with Blocked Resources,H1:All,H1:Missing,H1:Duplicate,H1:Over X Characters,H1:Multiple,H2:All,H2:Missing,H2:Duplicate,H2:Over X Characters,H2:Multiple,Internal:All,Internal:HTML,Internal:JavaScript,Internal:CSS,Internal:Images,Internal:PDF,Internal:Flash,Internal:Other,Internal:Unknown,External:All,External:HTML,External:JavaScript,External:CSS,External:Images,External:PDF,External:Flash,External:Other,External:Unknown,AMP:All,AMP:Non-200 Response,AMP:Missing Non-AMP Return Link,AMP:Missing Canonical to Non-AMP,AMP:Non-Indexable Canonical,AMP:Indexable,AMP:Non-Indexable,AMP:Missing <html amp> Tag,AMP:Missing/Invalid <!doctype html> Tag,AMP:Missing <head> Tag,AMP:Missing <body> Tag,AMP:Missing Canonical,AMP:Missing/Invalid <meta charset> Tag,AMP:Missing/Invalid <meta viewport> Tag,AMP:Missing/Invalid AMP Script,AMP:Missing/Invalid AMP Boilerplate,AMP:Contains Disallowed HTML,AMP:Other Validation Errors,Canonicals:All,Canonicals:Contains Canonical,Canonicals:Self Referencing,Canonicals:Canonicalised,Canonicals:Missing,Canonicals:Multiple,Canonicals:Non-Indexable Canonical,Content:All,Content:Spelling Errors,Content:Grammar Errors,Content:Near Duplicates,Content:Exact Duplicates,Content:Low Content Pages,Custom Extraction:All,Custom Search:All,Directives:All,Directives:Index,Directives:Noindex,Directives:Follow,Directives:Nofollow,Directives:None,Directives:NoArchive,Directives:NoSnippet,Directives:Max-Snippet,Directives:Max-Image-Preview,Directives:Max-Video-Preview,Directives:NoODP,Directives:NoYDIR,Directives:NoImageIndex,Directives:NoTranslate,Directives:Unavailable_After,Directives:Refresh,Analytics:All,Analytics:Sessions Above 0,Analytics:Bounce Rate Above 70%,Analytics:No GA Data,Analytics:Non-Indexable with GA Data,Analytics:Orphan URLs,Search Console:All,Search Console:Clicks Above 0,Search Console:No GSC Data,Search Console:Non-Indexable with GSC Data,Search Console:Orphan URLs,Hreflang:All,Hreflang:Contains hreflang,Hreflang:Non-200 hreflang URLs,Hreflang:Unlinked hreflang URLs,Hreflang:Missing Return Links,Hreflang:Inconsistent Language & Region Return Links,Hreflang:Non-Canonical Return Links,Hreflang:Noindex Return Links,Hreflang:Incorrect Language & Region Codes,Hreflang:Multiple Entries,Hreflang:Missing Self Reference,Hreflang:Not Using Canonical,Hreflang:Missing X-Default,Hreflang:Missing,Images:All,Images:Over X KB,Images:Missing Alt Text,Images:Missing Alt Attribute,Images:Alt Text Over X Characters,Link Metrics:All,Meta Description:All,Meta Description:Missing,Meta Description:Duplicate,Meta Description:Over X Characters,Meta Description:Below X Characters,Meta Description:Over X Pixels,Meta Description:Below X Pixels,Meta Description:Multiple,Meta Keywords:All,Meta Keywords:Missing,Meta Keywords:Duplicate,Meta Keywords:Multiple,PageSpeed:All,PageSpeed:Eliminate Render-Blocking Resources,PageSpeed:Defer Offscreen Images,PageSpeed:Efficiently Encode Images,PageSpeed:Properly Size Images,PageSpeed:Minify CSS,PageSpeed:Minify JavaScript,PageSpeed:Reduce Unused CSS,PageSpeed:Reduce Unused JavaScript,PageSpeed:Serve Images in Next-Gen Formats,PageSpeed:Enable Text Compression,PageSpeed:Preconnect to Required Origins,PageSpeed:Reduce Server Response Times (TTFB),PageSpeed:Avoid Multiple Page Redirects,PageSpeed:Preload Key Requests,PageSpeed:Use Video Formats for Animated Content,PageSpeed:Avoid Excessive DOM Size,PageSpeed:Reduce JavaScript Execution Time,PageSpeed:Serve Static Assets with an Efficient Cache Policy,PageSpeed:Minimize Main-Thread Work,PageSpeed:Ensure Text Remains Visible During Webfont Load,PageSpeed:Image Elements Do Not Have Explicit Width & Height,PageSpeed:Avoid Large Layout Shifts,PageSpeed:Avoid Serving Legacy JavaScript to Modern Browsers,PageSpeed:Request Errors,Pagination:All,Pagination:Contains Pagination,Pagination:First Page,Pagination:Paginated 2+ Pages,Pagination:Pagination URL Not in Anchor Tag,Pagination:Non-200 Pagination URLs,Pagination:Unlinked Pagination URLs,Pagination:Non-Indexable,Pagination:Multiple Pagination URLs,Pagination:Pagination Loop,Pagination:Sequence Error,Response Codes:All,Response Codes:Blocked by Robots.txt,Response Codes:Blocked Resource,Response Codes:No Response,Response Codes:Success (2xx),Response Codes:Redirection (3xx),Response Codes:Redirection (JavaScript),Response Codes:Redirection (Meta Refresh),Response Codes:Client Error (4xx),Response Codes:Server Error (5xx),Security:All,Security:HTTP URLs,Security:HTTPS URLs,Security:Mixed Content,Security:Form URL Insecure,Security:Form on HTTP URL,Security:Unsafe Cross-Origin Links,Security:Missing HSTS Header,Security:Bad Content Type,Security:Missing X-Content-Type-Options Header,Security:Missing X-Frame-Options Header,Security:Protocol-Relative Resource Links,Security:Missing Content-Security-Policy Header,Security:Missing Secure Referrer-Policy Header,Sitemaps:All,Sitemaps:URLs in Sitemap,Sitemaps:URLs not in Sitemap,Sitemaps:Orphan URLs,Sitemaps:Non-Indexable URLs in Sitemap,Sitemaps:URLs in Multiple Sitemaps,Sitemaps:XML Sitemap with over 50k URLs,Sitemaps:XML Sitemap over 50MB,Structured Data:All,Structured Data:Contains Structured Data,Structured Data:Missing,Structured Data:Validation Errors,Structured Data:Validation Warnings,Structured Data:Parse Errors,Structured Data:Microdata URLs,Structured Data:JSON-LD URLs,Structured Data:RDFa URLs,Page Titles:All,Page Titles:Missing,Page Titles:Duplicate,Page Titles:Over X Characters,Page Titles:Below X Characters,Page Titles:Over X Pixels,Page Titles:Below X Pixels,Page Titles:Same as H1,Page Titles:Multiple,URL:All,URL:Non ASCII Characters,URL:Underscores,URL:Uppercase,URL:Parameters,URL:Over X Characters,URL:Multiple Slashes,URL:Repetitive Path,URL:Contains Space,URL:Broken Bookmark,URL:Internal Search,Depth 1,Depth 2,Depth 3,Depth 4,Depth 5,Depth 6,Depth 7,Depth 8,Depth 9,Depth 10+,Top Inlinks 1 URL,Top Inlinks 1 Number of Inlinks,Top Inlinks 2 URL,Top Inlinks 2 Number of Inlinks,Top Inlinks 3 URL,Top Inlinks 3 Number of Inlinks,Top Inlinks 4 URL,Top Inlinks 4 Number of Inlinks,Top Inlinks 5 URL,Top Inlinks 5 Number of Inlinks,Top Inlinks 6 URL,Top Inlinks 6 Number of Inlinks,Top Inlinks 7 URL,Top Inlinks 7 Number of Inlinks,Top Inlinks 8 URL,Top Inlinks 8 Number of Inlinks,Top Inlinks 9 URL,Top Inlinks 9 Number of Inlinks,Top Inlinks 10 URL,Top Inlinks 10 Number of Inlinks,Top Inlinks 11 URL,Top Inlinks 11 Number of Inlinks,Top Inlinks 12 URL,Top Inlinks 12 Number of Inlinks,Top Inlinks 13 URL,Top Inlinks 13 Number of Inlinks,Top Inlinks 14 URL,Top Inlinks 14 Number of Inlinks,Top Inlinks 15 URL,Top Inlinks 15 Number of Inlinks,Top Inlinks 16 URL,Top Inlinks 16 Number of Inlinks,Top Inlinks 17 URL,Top Inlinks 17 Number of Inlinks,Top Inlinks 18 URL,Top Inlinks 18 Number of Inlinks,Top Inlinks 19 URL,Top Inlinks 19 Number of Inlinks,Top Inlinks 20 URL,Top Inlinks 20 Number of Inlinks,Response Times 0s to 1s,Response Times 1s to 2s,Response Times 2s to 3s,Response Times 3s to 4s,Response Times 4s to 5s,Response Times 5s to 6s,Response Times 6s to 7s,Response Times 7s to 8s,Response Times 8s to 9s,Response Times 10s or more\" "
      ],
      "execution_count": null,
      "outputs": []
    },
    {
      "cell_type": "markdown",
      "metadata": {
        "id": "Cqy3vXXOMI06"
      },
      "source": [
        "# ✦ *Colab Still Alive Console Script:*\n",
        "<p><font size=2px ><font color=\"red\"> Tip - Set a javascript interval to click on the connect button every 60 seconds. Open developer-settings (in your web-browser) with Ctrl+Shift+I then click on console tab and type this on the console prompt. (for mac press Option+Command+I)</font></p><b>Copy script in hidden cell and paste at your browser console !!! DO NOT CLOSE YOUR BROWSER IN ORDER TO STILL RUNNING SCRIPT</b>"
      ]
    },
    {
      "cell_type": "markdown",
      "metadata": {
        "id": "1oClmsWF59o0"
      },
      "source": [
        "<code>function ClickConnect(){\n",
        "console.log(\"Working\"); \n",
        "document.querySelector(\"colab-connect-button\").click() \n",
        "}setInterval(ClickConnect,6000)</code>"
      ]
    },
    {
      "cell_type": "markdown",
      "metadata": {
        "id": "gZPPcZ_zJvR8"
      },
      "source": [
        "# *Что в итоге*\n",
        "На выходе в идеале получаем \n",
        "папку с датой обхода и следующими выгрузками в формате Excel\n",
        "\n",
        "\n",
        "**Tabs**:\n",
        "\n",
        "```\n",
        "Internal:All\n",
        "Response Codes:All\n",
        "Response Codes:Blocked by Robots.txt\n",
        "Response Codes:Blocked Resource\n",
        "Response Codes:No Response\n",
        "Response Codes:Redirection (3xx)\n",
        "Response Codes:Redirection (JavaScript)\n",
        "Response Codes:Redirection (Meta Refresh)\n",
        "Response Codes:Client Error (4xx)\n",
        "Response Codes:Server Error (5xx)\n",
        "Page Titles:All\n",
        "Page Titles:Missing\n",
        "Page Titles:Duplicate\n",
        "Page Titles:Over X Characters\n",
        "Page Titles:Below X Characters\n",
        "Page Titles:Over X Pixels\n",
        "Page Titles:Below X Pixels\n",
        "Page Titles:Same as H1\n",
        "Page Titles:Multiple\n",
        "Meta Description:All\n",
        "Meta Description:Missing\n",
        "Meta Description:Duplicate\n",
        "Meta Description:Over X Characters\n",
        "Meta Description:Below X Characters\n",
        "Meta Description:Over X Pixels\n",
        "Meta Description:Below X Pixels\n",
        "Meta Description:Multiple\n",
        "Meta Keywords:All\n",
        "Meta Keywords:Missing\n",
        "Meta Keywords:Duplicate\n",
        "Meta Keywords:Multiple\n",
        "Canonicals:All\n",
        "Canonicals:Contains Canonical\n",
        "Canonicals:Self Referencing\n",
        "Canonicals:Canonicalised\n",
        "Canonicals:Missing\n",
        "Canonicals:Multiple\n",
        "Canonicals:Non-Indexable Canonical\n",
        "Directives:All\n",
        "Directives:Index\n",
        "Directives:Noindex\n",
        "Directives:Follow\n",
        "Directives:Nofollow\n",
        "Directives:None\n",
        "Directives:NoArchive\n",
        "Directives:NoSnippet\n",
        "Directives:Max-Snippet\n",
        "Directives:Max-Image-Preview\n",
        "Directives:Max-Video-Preview\n",
        "Directives:NoODP\n",
        "Directives:NoYDIR\n",
        "Directives:NoImageIndex\n",
        "Directives:NoTranslate\n",
        "Directives:Unavailable_After\n",
        "Directives:Refresh\n",
        "AMP:All\n",
        "AMP:Non-200 Response\n",
        "AMP:Missing Non-AMP Return Link\n",
        "AMP:Missing Canonical to Non-AMP\n",
        "AMP:Non-Indexable Canonical\n",
        "AMP:Indexable\n",
        "AMP:Non-Indexable\n",
        "AMP:Missing <html amp> Tag\n",
        "AMP:Missing/Invalid <!doctype html> Tag\n",
        "AMP:Missing <head> Tag\n",
        "AMP:Missing <body> Tag\n",
        "AMP:Missing Canonical\n",
        "AMP:Missing/Invalid <meta charset> Tag\n",
        "AMP:Missing/Invalid <meta viewport> Tag\n",
        "AMP:Missing/Invalid AMP Script\n",
        "AMP:Missing/Invalid AMP Boilerplate\n",
        "AMP:Contains Disallowed HTML\n",
        "AMP:Other Validation Errors\n",
        "Structured Data:All\n",
        "Structured Data:Contains Structured Data\n",
        "Structured Data:Missing\n",
        "Structured Data:Validation Errors\n",
        "Structured Data:Validation Warnings\n",
        "Structured Data:Parse Errors\n",
        "Structured Data:Microdata URLs\n",
        "Structured Data:JSON-LD URLs\n",
        "Structured Data:RDFa URLs\n",
        "Sitemaps:All\n",
        "Sitemaps:URLs in Sitemap\n",
        "Sitemaps:URLs not in Sitemap\n",
        "Sitemaps:Orphan URLs\n",
        "Sitemaps:Non-Indexable URLs in Sitemap\n",
        "Sitemaps:URLs in Multiple Sitemaps\n",
        "Sitemaps:XML Sitemap with over 50k URLs\n",
        "Sitemaps:XML Sitemap over 50MB\" --bulk-export \"Canonicals:Contains Canonical Inlinks\n",
        "Canonicals:Self Referencing Inlinks\n",
        "Canonicals:Canonicalised Inlinks\n",
        "Canonicals:Missing Inlinks\n",
        "Canonicals:Multiple Inlinks\n",
        "Canonicals:Non-Indexable Canonical Inlinks\n",
        "AMP:All Inlinks\n",
        "AMP:Non-200 Response Inlinks\n",
        "AMP:Missing Non-AMP Return Link Inlinks\n",
        "AMP:Missing Canonical to Non-AMP Inlinks\n",
        "AMP:Non-Indexable Canonical Inlinks\n",
        "AMP:Indexable Inlinks\n",
        "AMP:Non-Indexable Inlinks\n",
        "Structured Data:Contains Structured Data\n",
        "Structured Data:Validation Errors\n",
        "Structured Data:Validation Warnings\n",
        "Structured Data:JSON-LD URLs\n",
        "Structured Data:Microdata URLs\n",
        "Structured Data:RDFa URLs\n",
        "Sitemaps:URLs in Sitemap Inlinks\n",
        "Sitemaps:Orphan URLs Inlinks\n",
        "Sitemaps:Non-Indexable URLs in Sitemap Inlinks\n",
        "Sitemaps:URLs in Multiple Sitemaps Inlinks\" --save-report \"Crawl Overview\n",
        "Redirects:All Redirects\n",
        "Redirects:Redirect Chains\n",
        "Redirects:Redirect & Canonical Chains\n",
        "Canonicals:Canonical Chains\n",
        "Canonicals:Non-Indexable Canonicals\n",
        "Pagination:Non-200 Pagination URLs\n",
        "Pagination:Unlinked Pagination URLs\n",
        "Hreflang:All hreflang URLs\n",
        "Hreflang:Non-200 hreflang URLs\n",
        "Hreflang:Unlinked hreflang URLs\n",
        "Hreflang:Missing Return Links\n",
        "Hreflang:Inconsistent Language & Region Return Links\n",
        "Hreflang:Non Canonical Return Links\n",
        "Hreflang:Noindex Return Links\n",
        "Insecure Content\n",
        "SERP Summary\n",
        "Orphan Pages\n",
        "Structured Data:Validation Errors & Warnings Summary\n",
        "Structured Data:Validation Errors & Warnings\n",
        "Structured Data:Google Rich Results Features Summary\n",
        "Structured Data:Google Rich Results Features\n",
        "HTTP Headers:HTTP Header Summary\n",
        "Cookies:Cookie Summary\n",
        "```\n",
        "\n",
        "**Summary**:\n",
        "\n",
        "```\n",
        "Site Crawled\n",
        "Date\n",
        "Time\n",
        "Total URLs Encountered\n",
        "Total URLs Crawled\n",
        "Total Internal blocked by robots.txt\n",
        "Total External blocked by robots.txt\n",
        "URLs Displayed\n",
        "Total Internal URLs\n",
        "Total External URLs\n",
        "Total Internal Indexable URLs\n",
        "Total Internal Non-Indexable URLs\n",
        "JavaScript:All\n",
        "JavaScript:Uses Old AJAX Crawling Scheme URLs\n",
        "JavaScript:Uses Old AJAX Crawling Scheme Meta Fragment Tag\n",
        "JavaScript:Page Title Only in Rendered HTML\n",
        "JavaScript:Page Title Updated by JavaScript\n",
        "JavaScript:H1 Only in Rendered HTML\n",
        "JavaScript:H1 Updated by JavaScript\n",
        "JavaScript:Meta Description Only in Rendered HTML\n",
        "JavaScript:Meta Description Updated by JavaScript\n",
        "JavaScript:Canonical Only in Rendered HTML\n",
        "JavaScript:Canonical Mismatch\n",
        "JavaScript:Noindex Only in Original HTML\n",
        "JavaScript:Nofollow Only in Original HTML\n",
        "JavaScript:Contains JavaScript Links\n",
        "JavaScript:Contains JavaScript Content\n",
        "JavaScript:Pages with Blocked Resources\n",
        "H1:All\n",
        "H1:Missing\n",
        "H1:Duplicate\n",
        "H1:Over X Characters\n",
        "H1:Multiple\n",
        "H2:All\n",
        "H2:Missing\n",
        "H2:Duplicate\n",
        "H2:Over X Characters\n",
        "H2:Multiple\n",
        "Internal:All\n",
        "Internal:HTML\n",
        "Internal:JavaScript\n",
        "Internal:CSS\n",
        "Internal:Images\n",
        "Internal:PDF\n",
        "Internal:Flash\n",
        "Internal:Other\n",
        "Internal:Unknown\n",
        "External:All\n",
        "External:HTML\n",
        "External:JavaScript\n",
        "External:CSS\n",
        "External:Images\n",
        "External:PDF\n",
        "External:Flash\n",
        "External:Other\n",
        "External:Unknown\n",
        "AMP:All\n",
        "AMP:Non-200 Response\n",
        "AMP:Missing Non-AMP Return Link\n",
        "AMP:Missing Canonical to Non-AMP\n",
        "AMP:Non-Indexable Canonical\n",
        "AMP:Indexable\n",
        "AMP:Non-Indexable\n",
        "AMP:Missing <html amp> Tag\n",
        "AMP:Missing/Invalid <!doctype html> Tag\n",
        "AMP:Missing <head> Tag\n",
        "AMP:Missing <body> Tag\n",
        "AMP:Missing Canonical\n",
        "AMP:Missing/Invalid <meta charset> Tag\n",
        "AMP:Missing/Invalid <meta viewport> Tag\n",
        "AMP:Missing/Invalid AMP Script\n",
        "AMP:Missing/Invalid AMP Boilerplate\n",
        "AMP:Contains Disallowed HTML\n",
        "AMP:Other Validation Errors\n",
        "Canonicals:All\n",
        "Canonicals:Contains Canonical\n",
        "Canonicals:Self Referencing\n",
        "Canonicals:Canonicalised\n",
        "Canonicals:Missing\n",
        "Canonicals:Multiple\n",
        "Canonicals:Non-Indexable Canonical\n",
        "Content:All\n",
        "Content:Spelling Errors\n",
        "Content:Grammar Errors\n",
        "Content:Near Duplicates\n",
        "Content:Exact Duplicates\n",
        "Content:Low Content Pages\n",
        "Custom Extraction:All\n",
        "Custom Search:All\n",
        "Directives:All\n",
        "Directives:Index\n",
        "Directives:Noindex\n",
        "Directives:Follow\n",
        "Directives:Nofollow\n",
        "Directives:None\n",
        "Directives:NoArchive\n",
        "Directives:NoSnippet\n",
        "Directives:Max-Snippet\n",
        "Directives:Max-Image-Preview\n",
        "Directives:Max-Video-Preview\n",
        "Directives:NoODP\n",
        "Directives:NoYDIR\n",
        "Directives:NoImageIndex\n",
        "Directives:NoTranslate\n",
        "Directives:Unavailable_After\n",
        "Directives:Refresh\n",
        "Analytics:All\n",
        "Analytics:Sessions Above 0\n",
        "Analytics:Bounce Rate Above 70%\n",
        "Analytics:No GA Data\n",
        "Analytics:Non-Indexable with GA Data\n",
        "Analytics:Orphan URLs\n",
        "Search Console:All\n",
        "Search Console:Clicks Above 0\n",
        "Search Console:No GSC Data\n",
        "Search Console:Non-Indexable with GSC Data\n",
        "Search Console:Orphan URLs\n",
        "Hreflang:All\n",
        "Hreflang:Contains hreflang\n",
        "Hreflang:Non-200 hreflang URLs\n",
        "Hreflang:Unlinked hreflang URLs\n",
        "Hreflang:Missing Return Links\n",
        "Hreflang:Inconsistent Language & Region Return Links\n",
        "Hreflang:Non-Canonical Return Links\n",
        "Hreflang:Noindex Return Links\n",
        "Hreflang:Incorrect Language & Region Codes\n",
        "Hreflang:Multiple Entries\n",
        "Hreflang:Missing Self Reference\n",
        "Hreflang:Not Using Canonical\n",
        "Hreflang:Missing X-Default\n",
        "Hreflang:Missing\n",
        "Images:All\n",
        "Images:Over X KB\n",
        "Images:Missing Alt Text\n",
        "Images:Missing Alt Attribute\n",
        "Images:Alt Text Over X Characters\n",
        "Link Metrics:All\n",
        "Meta Description:All\n",
        "Meta Description:Missing\n",
        "Meta Description:Duplicate\n",
        "Meta Description:Over X Characters\n",
        "Meta Description:Below X Characters\n",
        "Meta Description:Over X Pixels\n",
        "Meta Description:Below X Pixels\n",
        "Meta Description:Multiple\n",
        "Meta Keywords:All\n",
        "Meta Keywords:Missing\n",
        "Meta Keywords:Duplicate\n",
        "Meta Keywords:Multiple\n",
        "PageSpeed:All\n",
        "PageSpeed:Eliminate Render-Blocking Resources\n",
        "PageSpeed:Defer Offscreen Images\n",
        "PageSpeed:Efficiently Encode Images\n",
        "PageSpeed:Properly Size Images\n",
        "PageSpeed:Minify CSS\n",
        "PageSpeed:Minify JavaScript\n",
        "PageSpeed:Reduce Unused CSS\n",
        "PageSpeed:Reduce Unused JavaScript\n",
        "PageSpeed:Serve Images in Next-Gen Formats\n",
        "PageSpeed:Enable Text Compression\n",
        "PageSpeed:Preconnect to Required Origins\n",
        "PageSpeed:Reduce Server Response Times (TTFB)\n",
        "PageSpeed:Avoid Multiple Page Redirects\n",
        "PageSpeed:Preload Key Requests\n",
        "PageSpeed:Use Video Formats for Animated Content\n",
        "PageSpeed:Avoid Excessive DOM Size\n",
        "PageSpeed:Reduce JavaScript Execution Time\n",
        "PageSpeed:Serve Static Assets with an Efficient Cache Policy\n",
        "PageSpeed:Minimize Main-Thread Work\n",
        "PageSpeed:Ensure Text Remains Visible During Webfont Load\n",
        "PageSpeed:Image Elements Do Not Have Explicit Width & Height\n",
        "PageSpeed:Avoid Large Layout Shifts\n",
        "PageSpeed:Avoid Serving Legacy JavaScript to Modern Browsers\n",
        "PageSpeed:Request Errors\n",
        "Pagination:All\n",
        "Pagination:Contains Pagination\n",
        "Pagination:First Page\n",
        "Pagination:Paginated 2+ Pages\n",
        "Pagination:Pagination URL Not in Anchor Tag\n",
        "Pagination:Non-200 Pagination URLs\n",
        "Pagination:Unlinked Pagination URLs\n",
        "Pagination:Non-Indexable\n",
        "Pagination:Multiple Pagination URLs\n",
        "Pagination:Pagination Loop\n",
        "Pagination:Sequence Error\n",
        "Response Codes:All\n",
        "Response Codes:Blocked by Robots.txt\n",
        "Response Codes:Blocked Resource\n",
        "Response Codes:No Response\n",
        "Response Codes:Success (2xx)\n",
        "Response Codes:Redirection (3xx)\n",
        "Response Codes:Redirection (JavaScript)\n",
        "Response Codes:Redirection (Meta Refresh)\n",
        "Response Codes:Client Error (4xx)\n",
        "Response Codes:Server Error (5xx)\n",
        "Security:All\n",
        "Security:HTTP URLs\n",
        "Security:HTTPS URLs\n",
        "Security:Mixed Content\n",
        "Security:Form URL Insecure\n",
        "Security:Form on HTTP URL\n",
        "Security:Unsafe Cross-Origin Links\n",
        "Security:Missing HSTS Header\n",
        "Security:Bad Content Type\n",
        "Security:Missing X-Content-Type-Options Header\n",
        "Security:Missing X-Frame-Options Header\n",
        "Security:Protocol-Relative Resource Links\n",
        "Security:Missing Content-Security-Policy Header\n",
        "Security:Missing Secure Referrer-Policy Header\n",
        "Sitemaps:All\n",
        "Sitemaps:URLs in Sitemap\n",
        "Sitemaps:URLs not in Sitemap\n",
        "Sitemaps:Orphan URLs\n",
        "Sitemaps:Non-Indexable URLs in Sitemap\n",
        "Sitemaps:URLs in Multiple Sitemaps\n",
        "Sitemaps:XML Sitemap with over 50k URLs\n",
        "Sitemaps:XML Sitemap over 50MB\n",
        "Structured Data:All\n",
        "Structured Data:Contains Structured Data\n",
        "Structured Data:Missing\n",
        "Structured Data:Validation Errors\n",
        "Structured Data:Validation Warnings\n",
        "Structured Data:Parse Errors\n",
        "Structured Data:Microdata URLs\n",
        "Structured Data:JSON-LD URLs\n",
        "Structured Data:RDFa URLs\n",
        "Page Titles:All\n",
        "Page Titles:Missing\n",
        "Page Titles:Duplicate\n",
        "Page Titles:Over X Characters\n",
        "Page Titles:Below X Characters\n",
        "Page Titles:Over X Pixels\n",
        "Page Titles:Below X Pixels\n",
        "Page Titles:Same as H1\n",
        "Page Titles:Multiple\n",
        "URL:All\n",
        "URL:Non ASCII Characters\n",
        "URL:Underscores\n",
        "URL:Uppercase\n",
        "URL:Parameters\n",
        "URL:Over X Characters\n",
        "URL:Multiple Slashes\n",
        "URL:Repetitive Path\n",
        "URL:Contains Space\n",
        "URL:Broken Bookmark\n",
        "URL:Internal Search\n",
        "Depth 1\n",
        "Depth 2\n",
        "Depth 3\n",
        "Depth 4\n",
        "Depth 5\n",
        "Depth 6\n",
        "Depth 7\n",
        "Depth 8\n",
        "Depth 9\n",
        "Depth 10+\n",
        "Top Inlinks 1 URL\n",
        "Top Inlinks 1 Number of Inlinks\n",
        "Top Inlinks 2 URL\n",
        "Top Inlinks 2 Number of Inlinks\n",
        "Top Inlinks 3 URL\n",
        "Top Inlinks 3 Number of Inlinks\n",
        "Top Inlinks 4 URL\n",
        "Top Inlinks 4 Number of Inlinks\n",
        "Top Inlinks 5 URL\n",
        "Top Inlinks 5 Number of Inlinks\n",
        "Top Inlinks 6 URL\n",
        "Top Inlinks 6 Number of Inlinks\n",
        "Top Inlinks 7 URL\n",
        "Top Inlinks 7 Number of Inlinks\n",
        "Top Inlinks 8 URL\n",
        "Top Inlinks 8 Number of Inlinks\n",
        "Top Inlinks 9 URL\n",
        "Top Inlinks 9 Number of Inlinks\n",
        "Top Inlinks 10 URL\n",
        "Top Inlinks 10 Number of Inlinks\n",
        "Top Inlinks 11 URL\n",
        "Top Inlinks 11 Number of Inlinks\n",
        "Top Inlinks 12 URL\n",
        "Top Inlinks 12 Number of Inlinks\n",
        "Top Inlinks 13 URL\n",
        "Top Inlinks 13 Number of Inlinks\n",
        "Top Inlinks 14 URL\n",
        "Top Inlinks 14 Number of Inlinks\n",
        "Top Inlinks 15 URL\n",
        "Top Inlinks 15 Number of Inlinks\n",
        "Top Inlinks 16 URL\n",
        "Top Inlinks 16 Number of Inlinks\n",
        "Top Inlinks 17 URL\n",
        "Top Inlinks 17 Number of Inlinks\n",
        "Top Inlinks 18 URL\n",
        "Top Inlinks 18 Number of Inlinks\n",
        "Top Inlinks 19 URL\n",
        "Top Inlinks 19 Number of Inlinks\n",
        "Top Inlinks 20 URL\n",
        "Top Inlinks 20 Number of Inlinks\n",
        "Response Times 0s to 1s\n",
        "Response Times 1s to 2s\n",
        "Response Times 2s to 3s\n",
        "Response Times 3s to 4s\n",
        "Response Times 4s to 5s\n",
        "Response Times 5s to 6s\n",
        "Response Times 6s to 7s\n",
        "Response Times 7s to 8s\n",
        "Response Times 8s to 9s\n",
        "Response Times 10s or more\" ```\n",
        "\n",
        "\n"
      ]
    }
  ]
}